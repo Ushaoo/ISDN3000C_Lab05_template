{
 "cells": [
  {
   "cell_type": "code",
   "execution_count": null,
   "id": "7a1d5ea2",
   "metadata": {},
   "outputs": [],
   "source": [
    "import pandas as pd\n",
    "import numpy as np\n",
    "import matplotlib.pyplot as plt\n",
    "import os"
   ]
  },
  {
   "cell_type": "code",
   "execution_count": null,
   "id": "103bf515",
   "metadata": {},
   "outputs": [],
   "source": [
    "output_dir = 'plots'\n",
    "if not os.path.exists(output_dir):\n",
    "    os.makedirs(output_dir)"
   ]
  },
  {
   "cell_type": "code",
   "execution_count": null,
   "id": "31a75c85",
   "metadata": {},
   "outputs": [],
   "source": [
    "df = pd.read_csv('plant_sensors.csv')\n",
    "df['timestamp'] = pd.to_datetime(df['timestamp'])\n",
    "df['soil_moisture'] = df['soil_moisture'].interpolate(method='linear')\n",
    "df = df.dropna(subset=['sensor_id', 'timestamp'])"
   ]
  },
  {
   "cell_type": "code",
   "execution_count": null,
   "id": "9236e37e",
   "metadata": {},
   "outputs": [],
   "source": [
    "print(\"=== Standard Deviation Analysis ===\")\n",
    "std_by_sensor = df.groupby('sensor_id')['soil_moisture'].std()\n",
    "print(std_by_sensor)"
   ]
  }
 ],
 "metadata": {
  "kernelspec": {
   "display_name": "venv",
   "language": "python",
   "name": "python3"
  },
  "language_info": {
   "name": "python",
   "version": "3.13.7"
  }
 },
 "nbformat": 4,
 "nbformat_minor": 5
}
